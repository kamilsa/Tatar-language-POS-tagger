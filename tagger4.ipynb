{
 "cells": [
  {
   "cell_type": "code",
   "execution_count": 1,
   "metadata": {
    "collapsed": true
   },
   "outputs": [],
   "source": [
    "%matplotlib inline\n",
    "import matplotlib.pyplot as plt\n",
    "plt.style.use('ggplot')"
   ]
  },
  {
   "cell_type": "code",
   "execution_count": 2,
   "metadata": {
    "collapsed": true
   },
   "outputs": [],
   "source": [
    "import warnings\n",
    "warnings.filterwarnings('ignore')"
   ]
  },
  {
   "cell_type": "code",
   "execution_count": 4,
   "metadata": {
    "collapsed": false
   },
   "outputs": [],
   "source": [
    "from itertools import chain\n",
    "\n",
    "import sklearn\n",
    "import scipy.stats\n",
    "from sklearn.metrics import make_scorer\n",
    "from sklearn.cross_validation import cross_val_score\n",
    "from sklearn.grid_search import RandomizedSearchCV\n",
    "\n",
    "import sklearn_crfsuite\n",
    "from sklearn_crfsuite import scorers\n",
    "from sklearn_crfsuite import metrics"
   ]
  },
  {
   "cell_type": "code",
   "execution_count": 5,
   "metadata": {
    "collapsed": true
   },
   "outputs": [],
   "source": [
    "def get_sents_4day(filename):\n",
    "    f = open(filename, 'r')\n",
    "    lines = f.readlines()\n",
    "    sents = []\n",
    "    sent = []\n",
    "    for line in lines:\n",
    "        if len(line.split()) == 0 or line.strip == '':\n",
    "            if len(sent) == 0:\n",
    "                continue\n",
    "            sents.append(sent)\n",
    "            sent = []\n",
    "            continue\n",
    "        line = line.strip()\n",
    "        word = line.split()[1]\n",
    "        pos = line.split()[0]\n",
    "        sent.append(word + \"_\" + pos)\n",
    "    return sents"
   ]
  },
  {
   "cell_type": "code",
   "execution_count": 6,
   "metadata": {
    "collapsed": false
   },
   "outputs": [],
   "source": [
    "train_sents = get_sents_4day('pos_train.conll')\n",
    "test_sents = get_sents_4day('pos_test.conll')"
   ]
  },
  {
   "cell_type": "code",
   "execution_count": 15,
   "metadata": {
    "collapsed": false
   },
   "outputs": [
    {
     "data": {
      "text/plain": [
       "287"
      ]
     },
     "execution_count": 15,
     "metadata": {},
     "output_type": "execute_result"
    }
   ],
   "source": [
    "masc_sents = get_sents_4day('masc/written/chapter-10.conll')\n",
    "len(masc_sents)"
   ]
  },
  {
   "cell_type": "code",
   "execution_count": 25,
   "metadata": {
    "collapsed": false
   },
   "outputs": [
    {
     "data": {
      "text/plain": [
       "'!\"#$%&\\'()*+,-./:;<=>?@[\\\\]^_`{|}~'"
      ]
     },
     "execution_count": 25,
     "metadata": {},
     "output_type": "execute_result"
    }
   ],
   "source": [
    "import string\n",
    "string.punctuation"
   ]
  },
  {
   "cell_type": "code",
   "execution_count": 26,
   "metadata": {
    "collapsed": false
   },
   "outputs": [],
   "source": [
    "import nltk\n",
    "s = set(nltk.corpus.brown.words())\n",
    "def word2features(sent, i):\n",
    "    word_tag = sent[i].split('_')\n",
    "    word = word_tag[0]\n",
    "    postag = word_tag[1]\n",
    "    features = [\n",
    "        'bias',\n",
    "        'word.lower=' + word.lower(),\n",
    "        'word[-3:]=' + word[-3:],\n",
    "        'word[-2:]=' + word[-2:],\n",
    "        'word.isupper=%s' % word.isupper(),\n",
    "        'word.istitle=%s' % word.istitle(),\n",
    "        'word.isdigit=%s' % word.isdigit(),\n",
    "#         'postag=' + postag,\n",
    "#         'postag[:2]=' + postag[:2],\n",
    "        'word.isuser=%s' % str(word[:1] == '@'),\n",
    "        'word.ishashtag=%s' % str(word[:1] == '#'),\n",
    "        'word.isword=%s' % (word.lower() in s),\n",
    "    ]\n",
    "    if i > 0:\n",
    "        word1 = sent[i-1][0]\n",
    "        postag1 = sent[i-1][1]\n",
    "        features.extend([\n",
    "            '-1:word.lower=' + word1.lower(),\n",
    "            '-1:word.istitle=%s' % word1.istitle(),\n",
    "            '-1:word.isupper=%s' % word1.isupper(),\n",
    "#             '-1:postag=' + postag1,\n",
    "#             '-1:postag[:2]=' + postag1[:2],\n",
    "            '-1:word.isuser=%s' % str(word[:1] == '@'),\n",
    "            '-1:word.ishashtag=%s' % str(word[:1] == '#'),\n",
    "            '-1:word.isword=%s' % (word.lower() in s),\n",
    "        ])\n",
    "    else:\n",
    "        features.append('BOS')\n",
    "        \n",
    "    if i < len(sent)-1:\n",
    "        word1 = sent[i+1][0]\n",
    "        postag1 = sent[i+1][1]\n",
    "        features.extend([\n",
    "            '+1:word.lower=' + word1.lower(),\n",
    "            '+1:word.istitle=%s' % word1.istitle(),\n",
    "            '+1:word.isupper=%s' % word1.isupper(),\n",
    "#             '+1:postag=' + postag1,\n",
    "#             '+1:postag[:2]=' + postag1[:2],\n",
    "            '+1:word.isuser=%s' % str(word[:1] == '@'),\n",
    "            '+1:word.ishashtag=%s' % str(word[:1] == '#'),\n",
    "            '+1:word.isword=%s' % (word.lower() in s),                \n",
    "        ])\n",
    "    else:\n",
    "        features.append('EOS')\n",
    "                \n",
    "    return features\n",
    "\n",
    "\n",
    "def sent2features(sent):\n",
    "    return [word2features(sent, i) for i in range(len(sent))]\n",
    "\n",
    "def sent2labels(sent):\n",
    "    return [word_tag.split('_')[1] for word_tag in sent]\n",
    "\n",
    "def sent2tokens(sent):\n",
    "    return [token for token, postag, label in sent] "
   ]
  },
  {
   "cell_type": "code",
   "execution_count": 27,
   "metadata": {
    "collapsed": false
   },
   "outputs": [
    {
     "data": {
      "text/plain": [
       "['bias',\n",
       " 'word.lower=antick',\n",
       " 'word[-3:]=ick',\n",
       " 'word[-2:]=ck',\n",
       " 'word.isupper=False',\n",
       " 'word.istitle=True',\n",
       " 'word.isdigit=False',\n",
       " 'word.isuser=False',\n",
       " 'word.ishashtag=False',\n",
       " 'word.isword=False',\n",
       " 'BOS',\n",
       " '+1:word.lower=m',\n",
       " '+1:word.istitle=True',\n",
       " '+1:word.isupper=True',\n",
       " '+1:word.isuser=False',\n",
       " '+1:word.ishashtag=False',\n",
       " '+1:word.isword=False']"
      ]
     },
     "execution_count": 27,
     "metadata": {},
     "output_type": "execute_result"
    }
   ],
   "source": [
    "sent2features(train_sents[0])[0]"
   ]
  },
  {
   "cell_type": "code",
   "execution_count": 28,
   "metadata": {
    "collapsed": false
   },
   "outputs": [
    {
     "name": "stdout",
     "output_type": "stream",
     "text": [
      "CPU times: user 218 ms, sys: 41.4 ms, total: 259 ms\n",
      "Wall time: 263 ms\n"
     ]
    }
   ],
   "source": [
    "%%time\n",
    "X_train = [sent2features(s) for s in train_sents]\n",
    "y_train = [sent2labels(s) for s in train_sents]\n",
    "\n",
    "X_test = [sent2features(s) for s in test_sents]\n",
    "y_test = [sent2labels(s) for s in test_sents]"
   ]
  },
  {
   "cell_type": "code",
   "execution_count": 29,
   "metadata": {
    "collapsed": false
   },
   "outputs": [
    {
     "name": "stdout",
     "output_type": "stream",
     "text": [
      "CPU times: user 28.5 s, sys: 178 ms, total: 28.7 s\n",
      "Wall time: 29.1 s\n"
     ]
    }
   ],
   "source": [
    "%%time\n",
    "crf = sklearn_crfsuite.CRF(\n",
    "    algorithm='lbfgs',\n",
    "    c1=0.1,\n",
    "    c2=0.1,\n",
    "    max_iterations=100,\n",
    "    all_possible_transitions=True\n",
    ")\n",
    "crf.fit(X_train, y_train)"
   ]
  },
  {
   "cell_type": "code",
   "execution_count": 30,
   "metadata": {
    "collapsed": false,
    "scrolled": true
   },
   "outputs": [
    {
     "data": {
      "text/plain": [
       "['NNP',\n",
       " 'NN',\n",
       " ':',\n",
       " 'CD',\n",
       " '(',\n",
       " ')',\n",
       " 'IN',\n",
       " 'URL',\n",
       " 'RT',\n",
       " 'USR',\n",
       " 'JAMES',\n",
       " 'HT',\n",
       " '.',\n",
       " 'WRB',\n",
       " 'PRP',\n",
       " 'VBP',\n",
       " 'MD',\n",
       " 'RB',\n",
       " 'VB',\n",
       " 'UH',\n",
       " 'VBG',\n",
       " 'JJ',\n",
       " ',',\n",
       " 'CC',\n",
       " 'PRP$',\n",
       " 'DT',\n",
       " 'JJS',\n",
       " 'NNS',\n",
       " 'VBZ',\n",
       " 'RBR',\n",
       " 'VBN',\n",
       " 'VBD',\n",
       " 'SOTO',\n",
       " 'TO',\n",
       " 'RP',\n",
       " 'killer94',\n",
       " 'EX',\n",
       " 'POS',\n",
       " 'WP',\n",
       " '',\n",
       " 'Luvs',\n",
       " 'WDT',\n",
       " 'Swagga1',\n",
       " 'FW',\n",
       " 'JJR',\n",
       " \"''\",\n",
       " 'w',\n",
       " 'liinds',\n",
       " 'NNPS',\n",
       " 'Althani',\n",
       " 'za',\n",
       " 'nicole2010',\n",
       " 'Meenie',\n",
       " 'SYM',\n",
       " 'Ears',\n",
       " 'RBS',\n",
       " 'candelaria',\n",
       " 'clockwork',\n",
       " 'Manuchi',\n",
       " 'wl',\n",
       " 'am',\n",
       " 'Panic',\n",
       " 'Rhiann',\n",
       " 'ErOtiC',\n",
       " 'VPP',\n",
       " 'Score',\n",
       " 'Kwon',\n",
       " '1105',\n",
       " 'kWC4',\n",
       " 'Taylor',\n",
       " 'deadpool',\n",
       " 'Hadi',\n",
       " 'Kinghoopa',\n",
       " 'BertBerry',\n",
       " 'Messiah113',\n",
       " 'barbie',\n",
       " 'Sept15',\n",
       " 'di',\n",
       " 's',\n",
       " 'Patton',\n",
       " 'aus1980',\n",
       " 'LS',\n",
       " 'minion',\n",
       " 'gee',\n",
       " 'AsToldByBV',\n",
       " '-',\n",
       " 'walsh',\n",
       " 'GudBitch',\n",
       " 'TR',\n",
       " 'Laura',\n",
       " 'TD']"
      ]
     },
     "execution_count": 30,
     "metadata": {},
     "output_type": "execute_result"
    }
   ],
   "source": [
    "labels = list(crf.classes_)\n",
    "labels.remove('O')\n",
    "labels\n"
   ]
  },
  {
   "cell_type": "code",
   "execution_count": 31,
   "metadata": {
    "collapsed": false
   },
   "outputs": [
    {
     "data": {
      "text/plain": [
       "0.84645327833777695"
      ]
     },
     "execution_count": 31,
     "metadata": {},
     "output_type": "execute_result"
    }
   ],
   "source": [
    "y_pred = crf.predict(X_test)\n",
    "metrics.flat_f1_score(y_test, y_pred,\n",
    "                      average='weighted', labels=labels)"
   ]
  },
  {
   "cell_type": "code",
   "execution_count": 32,
   "metadata": {
    "collapsed": false
   },
   "outputs": [
    {
     "data": {
      "text/plain": [
       "0.84522747546833188"
      ]
     },
     "execution_count": 32,
     "metadata": {},
     "output_type": "execute_result"
    }
   ],
   "source": [
    "crf.score(X_test, y_test)"
   ]
  },
  {
   "cell_type": "code",
   "execution_count": 33,
   "metadata": {
    "collapsed": false
   },
   "outputs": [
    {
     "name": "stdout",
     "output_type": "stream",
     "text": [
      "items: 1895 out of 2242  0.845227 \n",
      "instances: 20 out of 118  0.169492 \n"
     ]
    }
   ],
   "source": [
    "item_count = 0\n",
    "item_total = 0\n",
    "inst_count = 0\n",
    "inst_total = 0\n",
    "for i in range(len(y_test)):\n",
    "    inst_total += 1\n",
    "    if (' '.join(y_test[i]) == ' '.join(y_pred[i])):\n",
    "        inst_count += 1\n",
    "    for word_test, word_pred in zip(y_test[i], y_pred[i]):\n",
    "        item_total += 1\n",
    "        if word_test == word_pred:\n",
    "            item_count += 1\n",
    "print (\"items: %d out of %d  %0.6f \" % (item_count, item_total, float(item_count)/item_total))\n",
    "print (\"instances: %d out of %d  %0.6f \" % (inst_count, inst_total, float(inst_count)/inst_total))"
   ]
  },
  {
   "cell_type": "code",
   "execution_count": 37,
   "metadata": {
    "collapsed": false
   },
   "outputs": [
    {
     "name": "stdout",
     "output_type": "stream",
     "text": [
      "Fitting 3 folds for each of 50 candidates, totalling 150 fits\n"
     ]
    },
    {
     "name": "stderr",
     "output_type": "stream",
     "text": [
      "[Parallel(n_jobs=-1)]: Done  42 tasks      | elapsed:  5.5min\n",
      "[Parallel(n_jobs=-1)]: Done 150 out of 150 | elapsed: 18.9min finished\n"
     ]
    },
    {
     "name": "stdout",
     "output_type": "stream",
     "text": [
      "CPU times: user 47.2 s, sys: 3.14 s, total: 50.3 s\n",
      "Wall time: 19min 27s\n"
     ]
    }
   ],
   "source": [
    "%%time\n",
    "# define fixed parameters and parameters to search\n",
    "crf = sklearn_crfsuite.CRF(\n",
    "#     algorithm='lbfgs',\n",
    "    max_iterations=100,\n",
    "    all_possible_transitions=True\n",
    ")\n",
    "params_space = {\n",
    "    'c1': scipy.stats.expon(scale=0.5),\n",
    "    'c2': scipy.stats.expon(scale=0.05),\n",
    "}\n",
    "\n",
    "# use the same metric for evaluation\n",
    "f1_scorer = make_scorer(\\\n",
    "    metrics.flat_accuracy_score,\\\n",
    "#     average='weighted',\\\n",
    "#     labels=labels\\\n",
    ")\n",
    "\n",
    "# search\n",
    "rs = RandomizedSearchCV(crf, params_space,\n",
    "                        cv=3,\n",
    "                        verbose=1,\n",
    "                        n_jobs=-1,\n",
    "                        n_iter=50,\n",
    "                        scoring=f1_scorer)\n",
    "rs.fit(X_train, y_train)"
   ]
  },
  {
   "cell_type": "code",
   "execution_count": 42,
   "metadata": {
    "collapsed": false
   },
   "outputs": [
    {
     "name": "stdout",
     "output_type": "stream",
     "text": [
      "best params: {'c1': 0.4174062537694039, 'c2': 0.0017341169877228052}\n",
      "best CV score: 0.828550571449\n"
     ]
    }
   ],
   "source": [
    "# crf = rs.best_estimator_\n",
    "print('best params:', rs.best_params_)\n",
    "print('best CV score:', rs.best_score_)\n",
    "# print('model size: {:0.2f}M'.format(rs.best_estimator_.size_ / 1000000))"
   ]
  },
  {
   "cell_type": "code",
   "execution_count": 39,
   "metadata": {
    "collapsed": false
   },
   "outputs": [
    {
     "name": "stdout",
     "output_type": "stream",
     "text": [
      "Dark blue => 0.7856, dark red => 0.8286\n"
     ]
    },
    {
     "data": {
      "image/png": "[encoded data removed]",
      "text/plain": [
       "<matplotlib.figure.Figure at 0x10e56acf8>"
      ]
     },
     "metadata": {},
     "output_type": "display_data"
    }
   ],
   "source": [
    "_x = [s.parameters['c1'] for s in rs.grid_scores_]\n",
    "_y = [s.parameters['c2'] for s in rs.grid_scores_]\n",
    "_c = [s.mean_validation_score for s in rs.grid_scores_]\n",
    "\n",
    "fig = plt.figure()\n",
    "fig.set_size_inches(12, 12)\n",
    "ax = plt.gca()\n",
    "ax.set_yscale('log')\n",
    "ax.set_xscale('log')\n",
    "ax.set_xlabel('C1')\n",
    "ax.set_ylabel('C2')\n",
    "ax.set_title(\"Randomized Hyperparameter Search CV Results (min={:0.3}, max={:0.3})\".format(\n",
    "    min(_c), max(_c)\n",
    "))\n",
    "\n",
    "ax.scatter(_x, _y, c=_c, s=60, alpha=0.9, edgecolors=[0,0,0])\n",
    "\n",
    "print(\"Dark blue => {:0.4}, dark red => {:0.4}\".format(min(_c), max(_c)))"
   ]
  },
  {
   "cell_type": "markdown",
   "metadata": {},
   "source": [
    "## Let's see per-class results"
   ]
  },
  {
   "cell_type": "code",
   "execution_count": 40,
   "metadata": {
    "collapsed": false,
    "scrolled": true
   },
   "outputs": [
    {
     "name": "stdout",
     "output_type": "stream",
     "text": [
      "             precision    recall  f1-score   support\n",
      "\n",
      "                 1.000     0.750     0.857         4\n",
      "         ''      1.000     1.000     1.000        10\n",
      "          (      1.000     1.000     1.000         4\n",
      "          )      1.000     1.000     1.000         6\n",
      "          ,      1.000     1.000     1.000        44\n",
      "          -      0.000     0.000     0.000         0\n",
      "          .      0.984     0.984     0.984       125\n",
      "       1105      0.000     0.000     0.000         0\n",
      "          :      0.940     0.963     0.951        81\n",
      "    Althani      0.000     0.000     0.000         0\n",
      " AsToldByBV      0.000     0.000     0.000         0\n",
      "  BertBerry      0.000     0.000     0.000         0\n",
      "         CC      0.932     0.976     0.953        42\n",
      "         CD      0.829     0.806     0.817        36\n",
      "         DT      0.972     0.904     0.937       115\n",
      "         EX      1.000     0.250     0.400         4\n",
      "       Ears      0.000     0.000     0.000         0\n",
      "     ErOtiC      0.000     0.000     0.000         0\n",
      "         FW      0.000     0.000     0.000         0\n",
      "   GudBitch      0.000     0.000     0.000         0\n",
      "         HT      0.962     1.000     0.980        25\n",
      "       Hadi      0.000     0.000     0.000         0\n",
      "         IN      0.935     0.946     0.941       168\n",
      "      JAMES      0.000     0.000     0.000         0\n",
      "         JJ      0.827     0.521     0.639       119\n",
      "        JJR      0.333     0.250     0.286         4\n",
      "        JJS      1.000     0.667     0.800         3\n",
      "  Kinghoopa      0.000     0.000     0.000         0\n",
      "       Kwon      0.000     0.000     0.000         0\n",
      "         LS      0.000     0.000     0.000         0\n",
      "      Laura      0.000     0.000     0.000         0\n",
      "       Luvs      0.000     0.000     0.000         0\n",
      "         MD      0.964     1.000     0.982        27\n",
      "    Manuchi      0.000     0.000     0.000         0\n",
      "     Meenie      0.000     0.000     0.000         0\n",
      " Messiah113      0.000     0.000     0.000         0\n",
      "         NN      0.770     0.794     0.782       287\n",
      "        NNP      0.655     0.844     0.737       173\n",
      "       NNPS      0.000     0.000     0.000         0\n",
      "        NNS      0.757     0.803     0.779        66\n",
      "        POS      0.800     1.000     0.889         4\n",
      "        PRP      0.935     0.958     0.946       165\n",
      "       PRP$      1.000     0.812     0.897        32\n",
      "      Panic      0.000     0.000     0.000         0\n",
      "     Patton      0.000     0.000     0.000         0\n",
      "         RB      0.845     0.891     0.868        92\n",
      "        RBR      0.857     1.000     0.923         6\n",
      "        RBS      0.000     0.000     0.000         0\n",
      "         RP      0.800     0.571     0.667        14\n",
      "         RT      1.000     1.000     1.000        24\n",
      "     Rhiann      0.000     0.000     0.000         0\n",
      "       SOTO      0.000     0.000     0.000         0\n",
      "        SYM      1.000     0.333     0.500         3\n",
      "      Score      0.000     0.000     0.000         0\n",
      "     Sept15      0.000     0.000     0.000         0\n",
      "    Swagga1      0.000     0.000     0.000         0\n",
      "         TD      0.000     0.000     0.000         0\n",
      "         TO      0.976     0.976     0.976        42\n",
      "         TR      0.000     0.000     0.000         0\n",
      "     Taylor      0.000     0.000     0.000         0\n",
      "         UH      0.613     0.623     0.618        61\n",
      "        URL      0.778     0.875     0.824        24\n",
      "        USR      0.857     0.982     0.915        55\n",
      "         VB      0.753     0.688     0.719        93\n",
      "        VBD      0.919     0.773     0.840        44\n",
      "        VBG      0.872     0.971     0.919        35\n",
      "        VBN      0.619     0.722     0.667        18\n",
      "        VBP      0.756     0.793     0.774        82\n",
      "        VBZ      0.846     0.759     0.800        58\n",
      "        VPP      0.000     0.000     0.000         0\n",
      "        WDT      0.500     1.000     0.667         1\n",
      "         WP      1.000     0.900     0.947        10\n",
      "        WRB      1.000     1.000     1.000        23\n",
      "         am      0.000     0.000     0.000         0\n",
      "    aus1980      0.000     0.000     0.000         0\n",
      "     barbie      0.000     0.000     0.000         0\n",
      " candelaria      0.000     0.000     0.000         0\n",
      "  clockwork      0.000     0.000     0.000         0\n",
      "   deadpool      0.000     0.000     0.000         0\n",
      "         di      0.000     0.000     0.000         0\n",
      "        gee      0.000     0.000     0.000         0\n",
      "       kWC4      0.000     0.000     0.000         0\n",
      "   killer94      0.000     0.000     0.000         0\n",
      "     liinds      0.000     0.000     0.000         0\n",
      "     minion      0.000     0.000     0.000         0\n",
      " nicole2010      0.000     0.000     0.000         0\n",
      "          s      0.000     0.000     0.000         0\n",
      "          w      0.000     0.000     0.000         0\n",
      "      walsh      0.000     0.000     0.000         0\n",
      "         wl      0.000     0.000     0.000         0\n",
      "         za      0.000     0.000     0.000         0\n",
      "\n",
      "avg / total      0.851     0.851     0.846      2229\n",
      "\n"
     ]
    }
   ],
   "source": [
    "crf = rs.best_estimator_\n",
    "y_pred = crf.predict(X_test)\n",
    "\n",
    "sorted_labels = sorted(\n",
    "    labels,\n",
    "    key=lambda name: (name)\n",
    ")\n",
    "\n",
    "print(metrics.flat_classification_report(\n",
    "    y_test, y_pred, labels=sorted_labels, digits=3\n",
    "))\n"
   ]
  },
  {
   "cell_type": "markdown",
   "metadata": {},
   "source": [
    "## Accuracy on items and instances"
   ]
  },
  {
   "cell_type": "code",
   "execution_count": 41,
   "metadata": {
    "collapsed": false
   },
   "outputs": [
    {
     "name": "stdout",
     "output_type": "stream",
     "text": [
      "items: 1896 out of 2242  0.845674 \n",
      "instances: 20 out of 118  0.169492 \n"
     ]
    }
   ],
   "source": [
    "item_count = 0\n",
    "item_total = 0\n",
    "inst_count = 0\n",
    "inst_total = 0\n",
    "for i in range(len(y_test)):\n",
    "    inst_total += 1\n",
    "    if (' '.join(y_test[i]) == ' '.join(y_pred[i])):\n",
    "        inst_count += 1\n",
    "    for word_test, word_pred in zip(y_test[i], y_pred[i]):\n",
    "        item_total += 1\n",
    "        if word_test == word_pred:\n",
    "            item_count += 1\n",
    "print (\"items: %d out of %d  %0.6f \" % (item_count, item_total, float(item_count)/item_total))\n",
    "print (\"instances: %d out of %d  %0.6f \" % (inst_count, inst_total, float(inst_count)/inst_total))"
   ]
  },
  {
   "cell_type": "markdown",
   "metadata": {},
   "source": [
    "## Most likely transitions"
   ]
  },
  {
   "cell_type": "code",
   "execution_count": 22,
   "metadata": {
    "collapsed": false
   },
   "outputs": [
    {
     "name": "stdout",
     "output_type": "stream",
     "text": [
      "Top likely transitions:\n",
      "wl     -> am      4.857868\n",
      "MD     -> VB      4.560767\n",
      "TO     -> VB      3.656991\n",
      "SYM    -> SYM     3.650117\n",
      "PRP    -> VBP     3.631396\n",
      "UH     -> UH      3.471491\n",
      "WDT    -> VBZ     3.259909\n",
      "RBR    -> RBR     3.231210\n",
      "NNP    -> NNPS    3.073804\n",
      "WP     -> VBZ     3.054705\n",
      "PRP$   -> NN      2.844130\n",
      "DT     -> NN      2.834156\n",
      "NN     -> POS     2.731416\n",
      "URL    -> HT      2.708884\n",
      "VBG    -> Patton  2.685840\n",
      "CD     -> WDT     2.638793\n",
      "PRP    -> VBD     2.618135\n",
      "NN     -> WDT     2.614067\n",
      "UH     -> Rhiann  2.494703\n",
      "NNS    -> VBP     2.414282\n",
      "\n",
      "Top unlikely transitions:\n",
      "POS    -> IN      -1.529310\n",
      "PRP    -> CD      -1.532860\n",
      "RB     -> CD      -1.570556\n",
      "VB     -> VBZ     -1.577139\n",
      "NNS    -> VBN     -1.595004\n",
      "VBZ    -> VB      -1.623948\n",
      "VBZ    -> CC      -1.667563\n",
      "DT     -> PRP     -1.712807\n",
      ",      -> :       -1.717021\n",
      "NNP    -> PRP     -1.736075\n",
      "VBZ    -> :       -1.775788\n",
      "VB     -> VBP     -1.778540\n",
      "VBG    -> UH      -1.799849\n",
      "VBG    -> VBP     -1.800681\n",
      "NNP    -> HT      -1.909071\n",
      "UH     -> NN      -2.144671\n",
      "NNP    -> DT      -2.529796\n",
      "NN     -> PRP$    -2.608125\n",
      "PRP    -> (       -3.113188\n",
      "       -> DT      -3.769457\n"
     ]
    }
   ],
   "source": [
    "from collections import Counter\n",
    "\n",
    "def print_transitions(trans_features):\n",
    "    for (label_from, label_to), weight in trans_features:\n",
    "        print(\"%-6s -> %-7s %0.6f\" % (label_from, label_to, weight))\n",
    "\n",
    "print(\"Top likely transitions:\")\n",
    "print_transitions(Counter(crf.transition_features_).most_common(20))\n",
    "\n",
    "print(\"\\nTop unlikely transitions:\")\n",
    "print_transitions(Counter(crf.transition_features_).most_common()[-20:])"
   ]
  },
  {
   "cell_type": "code",
   "execution_count": 23,
   "metadata": {
    "collapsed": false,
    "scrolled": true
   },
   "outputs": [
    {
     "name": "stdout",
     "output_type": "stream",
     "text": [
      "Top positive:\n",
      "10.092158 PRP      word.lower=i\n",
      "9.810632 HT       word.ishashtag=True\n",
      "9.798638 PRP      word.lower=it\n",
      "9.561297 TO       word.lower=to\n",
      "9.204159 DT       word.lower=all\n",
      "8.312220 WP       word.lower=what\n",
      "8.238974 PRP      word.lower=its\n",
      "8.118142 RB       word.lower=n't\n",
      "8.025167 CC       word.lower=but\n",
      "8.021120 CC       word.lower=and\n",
      "7.946586 WRB      word.lower=when\n",
      "7.898065 DT       word.lower=this\n",
      "7.673748 PRP      word.lower=you\n",
      "7.412297 PRP      word.lower=im\n",
      "7.391946 RB       word.lower=now\n",
      "7.390340 WRB      word.lower=how\n",
      "7.281033 RP       word.lower=up\n",
      "7.278973 PRP$     word.lower=my\n",
      "7.221896 CC       word.lower=or\n",
      "7.218389 VBZ      word.lower=is\n",
      "7.140434 WDT      word.lower=thats\n",
      "6.961736 IN       word.lower=of\n",
      "6.954280 IN       word.lower=over\n",
      "6.951600 PRP      word.lower=we\n",
      "6.921347 PRP      word.lower=me\n",
      "6.847075 WRB      word.lower=why\n",
      "6.798146 DT       word.lower=these\n",
      "6.767112 WRB      word.lower=where\n",
      "6.754845 IN       word.lower=after\n",
      "6.687485 .        word[-2:]=!!\n",
      "\n",
      "Top negative:\n",
      "-1.237398 JJ       +1:word.lower=r\n",
      "-1.255996 NNS      +1:word.lower=p\n",
      "-1.258051 .        +1:word.lower=o\n",
      "-1.258767 NNP      -1:word.lower=@\n",
      "-1.262966 UH       +1:word.lower=:\n",
      "-1.280726 MD       +1:word.lower=m\n",
      "-1.319634 JJ       -1:word.lower=p\n",
      "-1.331981 NNP      +1:word.lower=u\n",
      "-1.334625 VB       -1:word.lower=&\n",
      "-1.400135 VBG      EOS\n",
      "-1.402389 VB       +1:word.lower=,\n",
      "-1.407715 NNP      word.istitle=False\n",
      "-1.438727 NNS      +1:word.lower=c\n",
      "-1.453548 NNP      -1:word.lower=.\n",
      "-1.548462 UH       -1:word.lower=l\n",
      "-1.624282 UH       +1:word.lower=n\n",
      "-1.626033 RB       -1:word.lower=1\n",
      "-1.648726 CC       +1:word.lower=3\n",
      "-1.743091 NN       -1:word.lower=j\n",
      "-1.743405 NNP      -1:word.lower=:\n",
      "-1.779145 VBG      +1:word.lower=y\n",
      "-1.790100 .        +1:word.lower=@\n",
      "-1.836862 USR      word[-2:]=ie\n",
      "-1.922135 UH       +1:word.lower=&\n",
      "-1.974191 NNP      -1:word.lower=!\n",
      "-2.261324 RP       +1:word.lower=o\n",
      "-2.430942 CD       word.isdigit=False\n",
      "-2.553815 :        -1:word.lower=.\n",
      "-2.866080 NNP      -1:word.lower=?\n",
      "-3.051571 USR      word.isuser=False\n"
     ]
    }
   ],
   "source": [
    "def print_state_features(state_features):\n",
    "    for (attr, label), weight in state_features:\n",
    "        print(\"%0.6f %-8s %s\" % (weight, label, attr))\n",
    "\n",
    "print(\"Top positive:\")\n",
    "print_state_features(Counter(crf.state_features_).most_common(30))\n",
    "\n",
    "print(\"\\nTop negative:\")\n",
    "print_state_features(Counter(crf.state_features_).most_common()[-30:])"
   ]
  },
  {
   "cell_type": "markdown",
   "metadata": {},
   "source": [
    "## Written\n",
    "So far we have dealt with twitter dataset, which has very \"specific\" vocabulary. Now let's see what how our model will work with \"written\" vocabulary. To do so we got MASC dataset, and checked our model on it"
   ]
  },
  {
   "cell_type": "code",
   "execution_count": 45,
   "metadata": {
    "collapsed": true
   },
   "outputs": [],
   "source": [
    "def get_sents_written(filename):\n",
    "    f = open(filename, 'r')\n",
    "    lines = f.readlines()\n",
    "    sents = []\n",
    "    sent = []\n",
    "    for line in lines:\n",
    "        if len(line.split()) == 0 or line.strip == '':\n",
    "            if len(sent) == 0:\n",
    "                continue\n",
    "            sents.append(sent)\n",
    "            sent = []\n",
    "            continue\n",
    "        line = line.strip()\n",
    "        word = line.split()[1]\n",
    "        pos = line.split()[3]\n",
    "        sent.append(word + \"_\" + pos)\n",
    "    return sents"
   ]
  },
  {
   "cell_type": "code",
   "execution_count": 48,
   "metadata": {
    "collapsed": false
   },
   "outputs": [],
   "source": [
    "written_sents = get_sents_written('masc/written/chapter-10.conll')\n",
    "train_sents = written_sents[:int(0.6*len(written_sents))]\n",
    "test_sents = written_sents[int(0.6*len(written_sents)):]"
   ]
  },
  {
   "cell_type": "code",
   "execution_count": 51,
   "metadata": {
    "collapsed": false
   },
   "outputs": [
    {
     "name": "stdout",
     "output_type": "stream",
     "text": [
      "CPU times: user 144 ms, sys: 58.4 ms, total: 202 ms\n",
      "Wall time: 216 ms\n"
     ]
    }
   ],
   "source": [
    "%%time\n",
    "X_train = [sent2features(s) for s in train_sents]\n",
    "y_train = [sent2labels(s) for s in train_sents]\n",
    "\n",
    "X_test = [sent2features(s) for s in test_sents]\n",
    "y_test = [sent2labels(s) for s in test_sents]"
   ]
  },
  {
   "cell_type": "markdown",
   "metadata": {},
   "source": [
    "## Metrics with old model"
   ]
  },
  {
   "cell_type": "code",
   "execution_count": 52,
   "metadata": {
    "collapsed": false
   },
   "outputs": [
    {
     "name": "stdout",
     "output_type": "stream",
     "text": [
      "             precision    recall  f1-score   support\n",
      "\n",
      "                 1.000     1.000     1.000        12\n",
      "         ''      0.923     1.000     0.960        60\n",
      "          (      1.000     1.000     1.000         2\n",
      "          )      1.000     1.000     1.000         2\n",
      "          ,      1.000     0.979     0.990       145\n",
      "          -      0.000     0.000     0.000         0\n",
      "          .      1.000     0.957     0.978       115\n",
      "       1105      0.000     0.000     0.000         0\n",
      "          :      0.458     1.000     0.629        11\n",
      "    Althani      0.000     0.000     0.000         0\n",
      " AsToldByBV      0.000     0.000     0.000         0\n",
      "  BertBerry      0.000     0.000     0.000         0\n",
      "         CC      1.000     0.961     0.980        77\n",
      "         CD      0.754     0.796     0.775        54\n",
      "         DT      0.908     0.969     0.937       255\n",
      "         EX      0.000     0.000     0.000         3\n",
      "       Ears      0.000     0.000     0.000         0\n",
      "     ErOtiC      0.000     0.000     0.000         0\n",
      "         FW      0.000     0.000     0.000         0\n",
      "   GudBitch      0.000     0.000     0.000         0\n",
      "         HT      0.000     0.000     0.000         0\n",
      "       Hadi      0.000     0.000     0.000         0\n",
      "         IN      0.965     0.926     0.945       324\n",
      "      JAMES      0.000     0.000     0.000         0\n",
      "         JJ      0.574     0.377     0.455       154\n",
      "        JJR      0.333     0.500     0.400         2\n",
      "        JJS      0.500     1.000     0.667         1\n",
      "  Kinghoopa      0.000     0.000     0.000         0\n",
      "       Kwon      0.000     0.000     0.000         0\n",
      "         LS      0.000     0.000     0.000         0\n",
      "      Laura      0.000     0.000     0.000         0\n",
      "       Luvs      0.000     0.000     0.000         0\n",
      "         MD      1.000     1.000     1.000        28\n",
      "    Manuchi      0.000     0.000     0.000         0\n",
      "     Meenie      0.000     0.000     0.000         0\n",
      " Messiah113      0.000     0.000     0.000         0\n",
      "         NN      0.711     0.864     0.780       316\n",
      "        NNP      0.860     0.803     0.830       381\n",
      "       NNPS      0.000     0.000     0.000         6\n",
      "        NNS      0.820     0.840     0.830       119\n",
      "        POS      1.000     0.885     0.939        26\n",
      "        PRP      0.947     1.000     0.973        72\n",
      "       PRP$      1.000     0.909     0.952        22\n",
      "      Panic      0.000     0.000     0.000         0\n",
      "     Patton      0.000     0.000     0.000         0\n",
      "         RB      0.859     0.827     0.843        81\n",
      "        RBR      1.000     0.333     0.500         3\n",
      "        RBS      0.000     0.000     0.000         0\n",
      "         RP      1.000     0.667     0.800         9\n",
      "         RT      0.000     0.000     0.000         0\n",
      "     Rhiann      0.000     0.000     0.000         0\n",
      "       SOTO      0.000     0.000     0.000         0\n",
      "        SYM      0.000     0.000     0.000         0\n",
      "      Score      0.000     0.000     0.000         0\n",
      "     Sept15      0.000     0.000     0.000         0\n",
      "    Swagga1      0.000     0.000     0.000         0\n",
      "         TD      0.000     0.000     0.000         0\n",
      "         TO      1.000     1.000     1.000        63\n",
      "         TR      0.000     0.000     0.000         0\n",
      "     Taylor      0.000     0.000     0.000         0\n",
      "         UH      0.000     0.000     0.000         0\n",
      "        URL      0.000     0.000     0.000         0\n",
      "        USR      0.000     0.000     0.000         0\n",
      "         VB      0.861     0.895     0.877        76\n",
      "        VBD      0.881     0.819     0.848       171\n",
      "        VBG      0.730     0.939     0.821        49\n",
      "        VBN      0.746     0.610     0.671        77\n",
      "        VBP      0.444     0.889     0.593         9\n",
      "        VBZ      0.400     0.923     0.558        13\n",
      "        VPP      0.000     0.000     0.000         0\n",
      "        WDT      0.800     0.571     0.667         7\n",
      "         WP      1.000     1.000     1.000         8\n",
      "        WRB      1.000     1.000     1.000         7\n",
      "         am      0.000     0.000     0.000         0\n",
      "    aus1980      0.000     0.000     0.000         0\n",
      "     barbie      0.000     0.000     0.000         0\n",
      " candelaria      0.000     0.000     0.000         0\n",
      "  clockwork      0.000     0.000     0.000         0\n",
      "   deadpool      0.000     0.000     0.000         0\n",
      "         di      0.000     0.000     0.000         0\n",
      "        gee      0.000     0.000     0.000         0\n",
      "       kWC4      0.000     0.000     0.000         0\n",
      "   killer94      0.000     0.000     0.000         0\n",
      "     liinds      0.000     0.000     0.000         0\n",
      "     minion      0.000     0.000     0.000         0\n",
      " nicole2010      0.000     0.000     0.000         0\n",
      "          s      0.000     0.000     0.000         0\n",
      "          w      0.000     0.000     0.000         0\n",
      "      walsh      0.000     0.000     0.000         0\n",
      "         wl      0.000     0.000     0.000         0\n",
      "         za      0.000     0.000     0.000         0\n",
      "\n",
      "avg / total      0.857     0.856     0.852      2760\n",
      "\n"
     ]
    }
   ],
   "source": [
    "crf = rs.best_estimator_\n",
    "y_pred = crf.predict(X_test)\n",
    "\n",
    "sorted_labels = sorted(\n",
    "    labels,\n",
    "    key=lambda name: (name)\n",
    ")\n",
    "\n",
    "print(metrics.flat_classification_report(\n",
    "    y_test, y_pred, labels=sorted_labels, digits=3\n",
    "))\n"
   ]
  },
  {
   "cell_type": "code",
   "execution_count": 53,
   "metadata": {
    "collapsed": false
   },
   "outputs": [
    {
     "name": "stdout",
     "output_type": "stream",
     "text": [
      "items: 2362 out of 2772  0.852092 \n",
      "instances: 7 out of 115  0.060870 \n"
     ]
    }
   ],
   "source": [
    "item_count = 0\n",
    "item_total = 0\n",
    "inst_count = 0\n",
    "inst_total = 0\n",
    "for i in range(len(y_test)):\n",
    "    inst_total += 1\n",
    "    if (' '.join(y_test[i]) == ' '.join(y_pred[i])):\n",
    "        inst_count += 1\n",
    "    for word_test, word_pred in zip(y_test[i], y_pred[i]):\n",
    "        item_total += 1\n",
    "        if word_test == word_pred:\n",
    "            item_count += 1\n",
    "print (\"items: %d out of %d  %0.6f \" % (item_count, item_total, float(item_count)/item_total))\n",
    "print (\"instances: %d out of %d  %0.6f \" % (inst_count, inst_total, float(inst_count)/inst_total))"
   ]
  },
  {
   "cell_type": "markdown",
   "metadata": {},
   "source": [
    "## Now let's train new model"
   ]
  },
  {
   "cell_type": "code",
   "execution_count": 54,
   "metadata": {
    "collapsed": false
   },
   "outputs": [
    {
     "name": "stdout",
     "output_type": "stream",
     "text": [
      "Fitting 3 folds for each of 50 candidates, totalling 150 fits\n"
     ]
    },
    {
     "name": "stderr",
     "output_type": "stream",
     "text": [
      "[Parallel(n_jobs=-1)]: Done  42 tasks      | elapsed:  1.1min\n",
      "[Parallel(n_jobs=-1)]: Done 150 out of 150 | elapsed:  3.5min finished\n"
     ]
    },
    {
     "name": "stdout",
     "output_type": "stream",
     "text": [
      "CPU times: user 10.3 s, sys: 995 ms, total: 11.3 s\n",
      "Wall time: 3min 34s\n"
     ]
    }
   ],
   "source": [
    "%%time\n",
    "# define fixed parameters and parameters to search\n",
    "crf = sklearn_crfsuite.CRF(\n",
    "#     algorithm='lbfgs',\n",
    "    max_iterations=100,\n",
    "    all_possible_transitions=True\n",
    ")\n",
    "params_space = {\n",
    "    'c1': scipy.stats.expon(scale=0.5),\n",
    "    'c2': scipy.stats.expon(scale=0.05),\n",
    "}\n",
    "\n",
    "# use the same metric for evaluation\n",
    "f1_scorer = make_scorer(\\\n",
    "    metrics.flat_accuracy_score,\\\n",
    "#     average='weighted',\\\n",
    "#     labels=labels\\\n",
    ")\n",
    "\n",
    "# search\n",
    "rs = RandomizedSearchCV(crf, params_space,\n",
    "                        cv=3,\n",
    "                        verbose=1,\n",
    "                        n_jobs=-1,\n",
    "                        n_iter=50,\n",
    "                        scoring=f1_scorer)\n",
    "rs.fit(X_train, y_train)"
   ]
  },
  {
   "cell_type": "code",
   "execution_count": 55,
   "metadata": {
    "collapsed": false
   },
   "outputs": [
    {
     "name": "stdout",
     "output_type": "stream",
     "text": [
      "best params: {'c1': 0.06127259919333498, 'c2': 0.011144341966718391}\n",
      "best CV score: 0.884521409812\n"
     ]
    }
   ],
   "source": [
    "# crf = rs.best_estimator_\n",
    "print('best params:', rs.best_params_)\n",
    "print('best CV score:', rs.best_score_)\n",
    "# print('model size: {:0.2f}M'.format(rs.best_estimator_.size_ / 1000000))"
   ]
  },
  {
   "cell_type": "code",
   "execution_count": 56,
   "metadata": {
    "collapsed": false
   },
   "outputs": [
    {
     "name": "stdout",
     "output_type": "stream",
     "text": [
      "Dark blue => 0.8298, dark red => 0.8845\n"
     ]
    },
    {
     "data": {
      "image/png": "[encoded data removed]",
      "text/plain": [
       "<matplotlib.figure.Figure at 0x10e7cf160>"
      ]
     },
     "metadata": {},
     "output_type": "display_data"
    }
   ],
   "source": [
    "_x = [s.parameters['c1'] for s in rs.grid_scores_]\n",
    "_y = [s.parameters['c2'] for s in rs.grid_scores_]\n",
    "_c = [s.mean_validation_score for s in rs.grid_scores_]\n",
    "\n",
    "fig = plt.figure()\n",
    "fig.set_size_inches(12, 12)\n",
    "ax = plt.gca()\n",
    "ax.set_yscale('log')\n",
    "ax.set_xscale('log')\n",
    "ax.set_xlabel('C1')\n",
    "ax.set_ylabel('C2')\n",
    "ax.set_title(\"Randomized Hyperparameter Search CV Results (min={:0.3}, max={:0.3})\".format(\n",
    "    min(_c), max(_c)\n",
    "))\n",
    "\n",
    "ax.scatter(_x, _y, c=_c, s=60, alpha=0.9, edgecolors=[0,0,0])\n",
    "\n",
    "print(\"Dark blue => {:0.4}, dark red => {:0.4}\".format(min(_c), max(_c)))"
   ]
  },
  {
   "cell_type": "code",
   "execution_count": 57,
   "metadata": {
    "collapsed": false
   },
   "outputs": [
    {
     "name": "stdout",
     "output_type": "stream",
     "text": [
      "             precision    recall  f1-score   support\n",
      "\n",
      "                 1.000     1.000     1.000        12\n",
      "         ''      0.949     0.933     0.941        60\n",
      "          (      1.000     1.000     1.000         2\n",
      "          )      1.000     1.000     1.000         2\n",
      "          ,      1.000     0.993     0.997       145\n",
      "          -      0.000     0.000     0.000         0\n",
      "          .      0.991     0.974     0.982       115\n",
      "       1105      0.000     0.000     0.000         0\n",
      "          :      0.556     0.909     0.690        11\n",
      "    Althani      0.000     0.000     0.000         0\n",
      " AsToldByBV      0.000     0.000     0.000         0\n",
      "  BertBerry      0.000     0.000     0.000         0\n",
      "         CC      1.000     0.961     0.980        77\n",
      "         CD      0.927     0.704     0.800        54\n",
      "         DT      1.000     0.953     0.976       255\n",
      "         EX      0.000     0.000     0.000         3\n",
      "       Ears      0.000     0.000     0.000         0\n",
      "     ErOtiC      0.000     0.000     0.000         0\n",
      "         FW      0.000     0.000     0.000         0\n",
      "   GudBitch      0.000     0.000     0.000         0\n",
      "         HT      0.000     0.000     0.000         0\n",
      "       Hadi      0.000     0.000     0.000         0\n",
      "         IN      0.952     0.978     0.965       324\n",
      "      JAMES      0.000     0.000     0.000         0\n",
      "         JJ      0.763     0.688     0.724       154\n",
      "        JJR      0.000     0.000     0.000         2\n",
      "        JJS      0.000     0.000     0.000         1\n",
      "  Kinghoopa      0.000     0.000     0.000         0\n",
      "       Kwon      0.000     0.000     0.000         0\n",
      "         LS      0.000     0.000     0.000         0\n",
      "      Laura      0.000     0.000     0.000         0\n",
      "       Luvs      0.000     0.000     0.000         0\n",
      "         MD      0.931     0.964     0.947        28\n",
      "    Manuchi      0.000     0.000     0.000         0\n",
      "     Meenie      0.000     0.000     0.000         0\n",
      " Messiah113      0.000     0.000     0.000         0\n",
      "         NN      0.861     0.880     0.870       316\n",
      "        NNP      0.893     0.987     0.938       381\n",
      "       NNPS      1.000     0.167     0.286         6\n",
      "        NNS      0.920     0.966     0.943       119\n",
      "        POS      0.963     1.000     0.981        26\n",
      "        PRP      0.958     0.944     0.951        72\n",
      "       PRP$      0.917     1.000     0.957        22\n",
      "      Panic      0.000     0.000     0.000         0\n",
      "     Patton      0.000     0.000     0.000         0\n",
      "         RB      0.792     0.753     0.772        81\n",
      "        RBR      1.000     0.333     0.500         3\n",
      "        RBS      0.000     0.000     0.000         0\n",
      "         RP      0.833     0.556     0.667         9\n",
      "         RT      0.000     0.000     0.000         0\n",
      "     Rhiann      0.000     0.000     0.000         0\n",
      "       SOTO      0.000     0.000     0.000         0\n",
      "        SYM      0.000     0.000     0.000         0\n",
      "      Score      0.000     0.000     0.000         0\n",
      "     Sept15      0.000     0.000     0.000         0\n",
      "    Swagga1      0.000     0.000     0.000         0\n",
      "         TD      0.000     0.000     0.000         0\n",
      "         TO      1.000     1.000     1.000        63\n",
      "         TR      0.000     0.000     0.000         0\n",
      "     Taylor      0.000     0.000     0.000         0\n",
      "         UH      0.000     0.000     0.000         0\n",
      "        URL      0.000     0.000     0.000         0\n",
      "        USR      0.000     0.000     0.000         0\n",
      "         VB      0.783     0.855     0.818        76\n",
      "        VBD      0.874     0.930     0.901       171\n",
      "        VBG      0.810     0.959     0.879        49\n",
      "        VBN      0.932     0.714     0.809        77\n",
      "        VBP      0.600     0.333     0.429         9\n",
      "        VBZ      1.000     0.538     0.700        13\n",
      "        VPP      0.000     0.000     0.000         0\n",
      "        WDT      0.714     0.714     0.714         7\n",
      "         WP      1.000     1.000     1.000         8\n",
      "        WRB      1.000     0.857     0.923         7\n",
      "         am      0.000     0.000     0.000         0\n",
      "    aus1980      0.000     0.000     0.000         0\n",
      "     barbie      0.000     0.000     0.000         0\n",
      " candelaria      0.000     0.000     0.000         0\n",
      "  clockwork      0.000     0.000     0.000         0\n",
      "   deadpool      0.000     0.000     0.000         0\n",
      "         di      0.000     0.000     0.000         0\n",
      "        gee      0.000     0.000     0.000         0\n",
      "       kWC4      0.000     0.000     0.000         0\n",
      "   killer94      0.000     0.000     0.000         0\n",
      "     liinds      0.000     0.000     0.000         0\n",
      "     minion      0.000     0.000     0.000         0\n",
      " nicole2010      0.000     0.000     0.000         0\n",
      "          s      0.000     0.000     0.000         0\n",
      "          w      0.000     0.000     0.000         0\n",
      "      walsh      0.000     0.000     0.000         0\n",
      "         wl      0.000     0.000     0.000         0\n",
      "         za      0.000     0.000     0.000         0\n",
      "\n",
      "avg / total      0.910     0.911     0.907      2760\n",
      "\n"
     ]
    }
   ],
   "source": [
    "crf = rs.best_estimator_\n",
    "y_pred = crf.predict(X_test)\n",
    "\n",
    "sorted_labels = sorted(\n",
    "    labels,\n",
    "    key=lambda name: (name)\n",
    ")\n",
    "\n",
    "print(metrics.flat_classification_report(\n",
    "    y_test, y_pred, labels=sorted_labels, digits=3\n",
    "))\n"
   ]
  },
  {
   "cell_type": "code",
   "execution_count": 58,
   "metadata": {
    "collapsed": false
   },
   "outputs": [
    {
     "name": "stdout",
     "output_type": "stream",
     "text": [
      "items: 2519 out of 2772  0.908730 \n",
      "instances: 25 out of 115  0.217391 \n"
     ]
    }
   ],
   "source": [
    "item_count = 0\n",
    "item_total = 0\n",
    "inst_count = 0\n",
    "inst_total = 0\n",
    "for i in range(len(y_test)):\n",
    "    inst_total += 1\n",
    "    if (' '.join(y_test[i]) == ' '.join(y_pred[i])):\n",
    "        inst_count += 1\n",
    "    for word_test, word_pred in zip(y_test[i], y_pred[i]):\n",
    "        item_total += 1\n",
    "        if word_test == word_pred:\n",
    "            item_count += 1\n",
    "print (\"items: %d out of %d  %0.6f \" % (item_count, item_total, float(item_count)/item_total))\n",
    "print (\"instances: %d out of %d  %0.6f \" % (inst_count, inst_total, float(inst_count)/inst_total))"
   ]
  },
  {
   "cell_type": "code",
   "execution_count": null,
   "metadata": {
    "collapsed": true
   },
   "outputs": [],
   "source": []
  }
 ],
 "metadata": {
  "anaconda-cloud": {},
  "kernelspec": {
   "display_name": "Python [conda env:venv]",
   "language": "python",
   "name": "conda-env-venv-py"
  },
  "language_info": {
   "codemirror_mode": {
    "name": "ipython",
    "version": 3
   },
   "file_extension": ".py",
   "mimetype": "text/x-python",
   "name": "python",
   "nbconvert_exporter": "python",
   "pygments_lexer": "ipython3",
   "version": "3.5.2"
  }
 },
 "nbformat": 4,
 "nbformat_minor": 1
}
